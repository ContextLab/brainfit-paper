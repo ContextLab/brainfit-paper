{
 "cells": [
  {
   "cell_type": "markdown",
   "id": "3debcba1",
   "metadata": {},
   "source": [
    "# Compile demographic information"
   ]
  },
  {
   "cell_type": "code",
   "execution_count": 17,
   "id": "36c68e91",
   "metadata": {},
   "outputs": [],
   "source": [
    "import pandas as pd\n",
    "import numpy as np\n",
    "\n",
    "import matplotlib as mpl\n",
    "from matplotlib import pyplot as plt\n",
    "\n",
    "from loader import load, get_formatted_data, get_raw_feature"
   ]
  },
  {
   "cell_type": "markdown",
   "id": "dceb2a7e",
   "metadata": {},
   "source": [
    "## Fitbit devices"
   ]
  },
  {
   "cell_type": "code",
   "execution_count": 2,
   "id": "c46a6505",
   "metadata": {},
   "outputs": [
    {
     "data": {
      "image/png": "[encoded data removed]",
      "text/plain": [
       "<Figure size 432x288 with 1 Axes>"
      ]
     },
     "metadata": {
      "needs_background": "light"
     },
     "output_type": "display_data"
    }
   ],
   "source": [
    "raw_data = get_formatted_data()\n",
    "devices, device_counts = np.unique(get_raw_feature(raw_data['fitbit'], 'device'), return_counts=True)\n",
    "devices = ['Unknown' if d == 'np.nan' else d for d in devices]\n",
    "order = np.argsort(device_counts)[::-1]\n",
    "\n",
    "plt.barh(np.take(devices, order), np.take(device_counts, order), color='k')\n",
    "plt.xlabel('Number of participants', fontsize=14);\n",
    "plt.ylabel('Device', fontsize=14);\n",
    "# plt.savefig('devices.pdf')"
   ]
  },
  {
   "cell_type": "markdown",
   "id": "a28f146a",
   "metadata": {},
   "source": [
    "## Personal demographics\n",
    "\n",
    "Load data:"
   ]
  },
  {
   "cell_type": "code",
   "execution_count": 3,
   "id": "1c5b4fbb",
   "metadata": {},
   "outputs": [
    {
     "data": {
      "text/html": [
       "<div>\n",
       "<style scoped>\n",
       "    .dataframe tbody tr th:only-of-type {\n",
       "        vertical-align: middle;\n",
       "    }\n",
       "\n",
       "    .dataframe tbody tr th {\n",
       "        vertical-align: top;\n",
       "    }\n",
       "\n",
       "    .dataframe thead tr th {\n",
       "        text-align: left;\n",
       "    }\n",
       "</style>\n",
       "<table border=\"1\" class=\"dataframe\">\n",
       "  <thead>\n",
       "    <tr>\n",
       "      <th></th>\n",
       "      <th></th>\n",
       "      <th colspan=\"3\" halign=\"left\">gender</th>\n",
       "      <th colspan=\"6\" halign=\"left\">race</th>\n",
       "      <th>...</th>\n",
       "      <th colspan=\"10\" halign=\"left\"></th>\n",
       "    </tr>\n",
       "    <tr>\n",
       "      <th></th>\n",
       "      <th>age</th>\n",
       "      <th>female</th>\n",
       "      <th>male</th>\n",
       "      <th>prefer not to say</th>\n",
       "      <th>american indian or alaska native</th>\n",
       "      <th>asian</th>\n",
       "      <th>black or african american</th>\n",
       "      <th>other</th>\n",
       "      <th>prefer not to say</th>\n",
       "      <th>white</th>\n",
       "      <th>...</th>\n",
       "      <th>clarity: overall</th>\n",
       "      <th>difficulty: free recall (immediate)</th>\n",
       "      <th>difficulty: free recall (delayed)</th>\n",
       "      <th>difficulty: vocab learning (immediate)</th>\n",
       "      <th>difficulty: vocab learning (delayed)</th>\n",
       "      <th>difficulty: spatial learning (immediate)</th>\n",
       "      <th>difficulty: naturalistic recall (immediate)</th>\n",
       "      <th>difficulty: naturalistic recall (delayed)</th>\n",
       "      <th>feedback: number of words</th>\n",
       "      <th>feedback: sentiment</th>\n",
       "    </tr>\n",
       "  </thead>\n",
       "  <tbody>\n",
       "    <tr>\n",
       "      <th>P0</th>\n",
       "      <td>33.0</td>\n",
       "      <td>0</td>\n",
       "      <td>1</td>\n",
       "      <td>0</td>\n",
       "      <td>0</td>\n",
       "      <td>0</td>\n",
       "      <td>0</td>\n",
       "      <td>0</td>\n",
       "      <td>0</td>\n",
       "      <td>1</td>\n",
       "      <td>...</td>\n",
       "      <td>1</td>\n",
       "      <td>-1</td>\n",
       "      <td>-1</td>\n",
       "      <td>1</td>\n",
       "      <td>1</td>\n",
       "      <td>0</td>\n",
       "      <td>2</td>\n",
       "      <td>2</td>\n",
       "      <td>19</td>\n",
       "      <td>-0.996201</td>\n",
       "    </tr>\n",
       "    <tr>\n",
       "      <th>P1</th>\n",
       "      <td>35.0</td>\n",
       "      <td>1</td>\n",
       "      <td>0</td>\n",
       "      <td>0</td>\n",
       "      <td>0</td>\n",
       "      <td>0</td>\n",
       "      <td>0</td>\n",
       "      <td>0</td>\n",
       "      <td>0</td>\n",
       "      <td>1</td>\n",
       "      <td>...</td>\n",
       "      <td>2</td>\n",
       "      <td>0</td>\n",
       "      <td>0</td>\n",
       "      <td>-1</td>\n",
       "      <td>-2</td>\n",
       "      <td>-2</td>\n",
       "      <td>-2</td>\n",
       "      <td>-2</td>\n",
       "      <td>0</td>\n",
       "      <td>NaN</td>\n",
       "    </tr>\n",
       "    <tr>\n",
       "      <th>P2</th>\n",
       "      <td>35.0</td>\n",
       "      <td>1</td>\n",
       "      <td>0</td>\n",
       "      <td>0</td>\n",
       "      <td>0</td>\n",
       "      <td>0</td>\n",
       "      <td>0</td>\n",
       "      <td>0</td>\n",
       "      <td>0</td>\n",
       "      <td>1</td>\n",
       "      <td>...</td>\n",
       "      <td>2</td>\n",
       "      <td>0</td>\n",
       "      <td>-1</td>\n",
       "      <td>0</td>\n",
       "      <td>-1</td>\n",
       "      <td>-1</td>\n",
       "      <td>2</td>\n",
       "      <td>2</td>\n",
       "      <td>0</td>\n",
       "      <td>NaN</td>\n",
       "    </tr>\n",
       "    <tr>\n",
       "      <th>P3</th>\n",
       "      <td>23.0</td>\n",
       "      <td>1</td>\n",
       "      <td>0</td>\n",
       "      <td>0</td>\n",
       "      <td>0</td>\n",
       "      <td>0</td>\n",
       "      <td>0</td>\n",
       "      <td>1</td>\n",
       "      <td>0</td>\n",
       "      <td>0</td>\n",
       "      <td>...</td>\n",
       "      <td>-2</td>\n",
       "      <td>-2</td>\n",
       "      <td>-2</td>\n",
       "      <td>2</td>\n",
       "      <td>0</td>\n",
       "      <td>-1</td>\n",
       "      <td>0</td>\n",
       "      <td>0</td>\n",
       "      <td>0</td>\n",
       "      <td>NaN</td>\n",
       "    </tr>\n",
       "    <tr>\n",
       "      <th>P4</th>\n",
       "      <td>35.0</td>\n",
       "      <td>1</td>\n",
       "      <td>0</td>\n",
       "      <td>0</td>\n",
       "      <td>0</td>\n",
       "      <td>0</td>\n",
       "      <td>1</td>\n",
       "      <td>0</td>\n",
       "      <td>0</td>\n",
       "      <td>1</td>\n",
       "      <td>...</td>\n",
       "      <td>2</td>\n",
       "      <td>-1</td>\n",
       "      <td>-1</td>\n",
       "      <td>-1</td>\n",
       "      <td>0</td>\n",
       "      <td>1</td>\n",
       "      <td>0</td>\n",
       "      <td>0</td>\n",
       "      <td>0</td>\n",
       "      <td>NaN</td>\n",
       "    </tr>\n",
       "  </tbody>\n",
       "</table>\n",
       "<p>5 rows × 66 columns</p>\n",
       "</div>"
      ],
      "text/plain": [
       "         gender                                                    race        \\\n",
       "     age female male prefer not to say american indian or alaska native asian   \n",
       "P0  33.0      0    1                 0                                0     0   \n",
       "P1  35.0      1    0                 0                                0     0   \n",
       "P2  35.0      1    0                 0                                0     0   \n",
       "P3  23.0      1    0                 0                                0     0   \n",
       "P4  35.0      1    0                 0                                0     0   \n",
       "\n",
       "                                                            ...  \\\n",
       "   black or african american other prefer not to say white  ...   \n",
       "P0                         0     0                 0     1  ...   \n",
       "P1                         0     0                 0     1  ...   \n",
       "P2                         0     0                 0     1  ...   \n",
       "P3                         0     1                 0     0  ...   \n",
       "P4                         1     0                 0     1  ...   \n",
       "\n",
       "                                                         \\\n",
       "   clarity: overall difficulty: free recall (immediate)   \n",
       "P0                1                                  -1   \n",
       "P1                2                                   0   \n",
       "P2                2                                   0   \n",
       "P3               -2                                  -2   \n",
       "P4                2                                  -1   \n",
       "\n",
       "                                                                             \\\n",
       "   difficulty: free recall (delayed) difficulty: vocab learning (immediate)   \n",
       "P0                                -1                                      1   \n",
       "P1                                 0                                     -1   \n",
       "P2                                -1                                      0   \n",
       "P3                                -2                                      2   \n",
       "P4                                -1                                     -1   \n",
       "\n",
       "                                         \\\n",
       "   difficulty: vocab learning (delayed)   \n",
       "P0                                    1   \n",
       "P1                                   -2   \n",
       "P2                                   -1   \n",
       "P3                                    0   \n",
       "P4                                    0   \n",
       "\n",
       "                                             \\\n",
       "   difficulty: spatial learning (immediate)   \n",
       "P0                                        0   \n",
       "P1                                       -2   \n",
       "P2                                       -1   \n",
       "P3                                       -1   \n",
       "P4                                        1   \n",
       "\n",
       "                                                \\\n",
       "   difficulty: naturalistic recall (immediate)   \n",
       "P0                                           2   \n",
       "P1                                          -2   \n",
       "P2                                           2   \n",
       "P3                                           0   \n",
       "P4                                           0   \n",
       "\n",
       "                                                                        \\\n",
       "   difficulty: naturalistic recall (delayed) feedback: number of words   \n",
       "P0                                         2                        19   \n",
       "P1                                        -2                         0   \n",
       "P2                                         2                         0   \n",
       "P3                                         0                         0   \n",
       "P4                                         0                         0   \n",
       "\n",
       "                        \n",
       "   feedback: sentiment  \n",
       "P0           -0.996201  \n",
       "P1                 NaN  \n",
       "P2                 NaN  \n",
       "P3                 NaN  \n",
       "P4                 NaN  \n",
       "\n",
       "[5 rows x 66 columns]"
      ]
     },
     "execution_count": 3,
     "metadata": {},
     "output_type": "execute_result"
    }
   ],
   "source": [
    "_, _, survey = load(recent=7, baseline=30)\n",
    "survey.head()"
   ]
  },
  {
   "cell_type": "markdown",
   "id": "b362c8a7",
   "metadata": {},
   "source": [
    "Define some helper functions to summarize relevant information:"
   ]
  },
  {
   "cell_type": "code",
   "execution_count": 4,
   "id": "cc3604da",
   "metadata": {},
   "outputs": [],
   "source": [
    "def select_columns(x, k):\n",
    "    columns = [c for c in x.columns if any(k in x for x in c)]\n",
    "    return x[columns]\n",
    "\n",
    "def summarize_values(x, by='column', how='rsum'):\n",
    "    def metric(y, how, **kwargs):\n",
    "        if type(how) is list:\n",
    "            return metric(y, how[0], **how[1])\n",
    "        \n",
    "        if how == 'rsum':\n",
    "            return np.sum(y, axis=0)\n",
    "        elif how == 'csum':\n",
    "            return np.sum(y, axis=1)\n",
    "        elif how == 'hist':        \n",
    "            vals = [v for v in y.values if not np.isnan(v)]            \n",
    "            percentiles = kwargs.pop('percentiles', [0, 25, 50, 75, 100])\n",
    "            return np.percentile(vals, percentiles, interpolation='linear')\n",
    "        else:\n",
    "            raise ValueError(f'unknown aggregator: {how}')\n",
    "    \n",
    "    if by == 'column':\n",
    "        for c in x.columns:\n",
    "            print(f'{c}: {metric(x[c], how)}')\n",
    "    else:\n",
    "        raise ValueError(f'unknown method: {by}')"
   ]
  },
  {
   "cell_type": "markdown",
   "id": "6fb211f7",
   "metadata": {},
   "source": [
    "Summarize demographics:"
   ]
  },
  {
   "cell_type": "code",
   "execution_count": 5,
   "id": "c786d348",
   "metadata": {},
   "outputs": [
    {
     "name": "stdout",
     "output_type": "stream",
     "text": [
      "('gender', 'female'): 77\n",
      "('gender', 'male'): 35\n",
      "('gender', 'prefer not to say'): 1\n"
     ]
    }
   ],
   "source": [
    "summarize_values(select_columns(survey, 'gender'))"
   ]
  },
  {
   "cell_type": "code",
   "execution_count": 6,
   "id": "74a09b08",
   "metadata": {},
   "outputs": [
    {
     "name": "stdout",
     "output_type": "stream",
     "text": [
      "('', 'age'): [19.   28.25 32.   38.   68.  ]\n",
      "('', 'number fluent languages'): [1. 1. 1. 1. 2.]\n",
      "('', 'number familiar languages'): [ 1.  1.  2.  3. 11.]\n"
     ]
    }
   ],
   "source": [
    "summarize_values(select_columns(survey, 'age'), how='hist')"
   ]
  },
  {
   "cell_type": "code",
   "execution_count": 7,
   "id": "159551e2",
   "metadata": {},
   "outputs": [
    {
     "name": "stdout",
     "output_type": "stream",
     "text": [
      "('race', 'american indian or alaska native'): 3\n",
      "('race', 'asian'): 7\n",
      "('race', 'black or african american'): 11\n",
      "('race', 'other'): 4\n",
      "('race', 'prefer not to say'): 1\n",
      "('race', 'white'): 90\n"
     ]
    }
   ],
   "source": [
    "summarize_values(select_columns(survey, 'race'))"
   ]
  },
  {
   "cell_type": "code",
   "execution_count": 8,
   "id": "dd7fa6fa",
   "metadata": {},
   "outputs": [
    {
     "name": "stdout",
     "output_type": "stream",
     "text": [
      "('location', 'large city'): 30\n",
      "('location', 'rural'): 14\n",
      "('location', 'small city'): 23\n",
      "('location', 'small town'): 10\n",
      "('location', 'suburban'): 36\n"
     ]
    }
   ],
   "source": [
    "summarize_values(select_columns(survey, 'location'))"
   ]
  },
  {
   "cell_type": "code",
   "execution_count": 9,
   "id": "9886c8d1",
   "metadata": {},
   "outputs": [
    {
     "name": "stdout",
     "output_type": "stream",
     "text": [
      "('degree', \"associate's degree\"): 8\n",
      "('degree', 'college graduate'): 42\n",
      "('degree', 'doctorate'): 2\n",
      "('degree', 'high school graduate'): 9\n",
      "('degree', \"master's degree\"): 23\n",
      "('degree', 'other graduate/professional school'): 5\n",
      "('degree', 'some college'): 21\n",
      "('degree', 'some graduate training'): 3\n"
     ]
    }
   ],
   "source": [
    "summarize_values(select_columns(survey, 'degree'))"
   ]
  },
  {
   "cell_type": "code",
   "execution_count": 10,
   "id": "e59879b7",
   "metadata": {},
   "outputs": [
    {
     "name": "stdout",
     "output_type": "stream",
     "text": [
      "('', 'number fluent languages'): [1. 1. 1. 1. 2.]\n",
      "('', 'number familiar languages'): [ 1.  1.  2.  3. 11.]\n"
     ]
    }
   ],
   "source": [
    "summarize_values(select_columns(survey, 'language'), how='hist')"
   ]
  },
  {
   "cell_type": "code",
   "execution_count": 11,
   "id": "cf19777f",
   "metadata": {},
   "outputs": [
    {
     "name": "stdout",
     "output_type": "stream",
     "text": [
      "('', 'current stress'): [-2. -2. -1.  1.  2.]\n",
      "('', 'typical stress'): [-2. -1.  0.  1.  2.]\n",
      "('', 'current / typical stress'): [nan  0.  1.  1. nan]\n"
     ]
    },
    {
     "name": "stderr",
     "output_type": "stream",
     "text": [
      "/opt/conda/lib/python3.8/site-packages/numpy/lib/function_base.py:4009: RuntimeWarning: invalid value encountered in subtract\n",
      "  diff_b_a = subtract(b, a)\n"
     ]
    }
   ],
   "source": [
    "summarize_values(select_columns(survey, 'stress'), how='hist')"
   ]
  },
  {
   "cell_type": "code",
   "execution_count": 12,
   "id": "c8090536",
   "metadata": {},
   "outputs": [
    {
     "name": "stdout",
     "output_type": "stream",
     "text": [
      "('', 'alertness'): [-2.  0.  1.  2.  2.]\n"
     ]
    }
   ],
   "source": [
    "summarize_values(select_columns(survey, 'alert'), how='hist')"
   ]
  },
  {
   "cell_type": "code",
   "execution_count": 13,
   "id": "446fcf9f",
   "metadata": {},
   "outputs": [
    {
     "name": "stdout",
     "output_type": "stream",
     "text": [
      "('health and wellness', 'anxiety or depression'): 4\n",
      "('health and wellness', 'high blood pressure'): 1\n",
      "('health and wellness', 'bipolar'): 1\n",
      "('health and wellness', 'hypothyroid'): 1\n",
      "('health and wellness', 'unspecified medications'): 1\n",
      "('health and wellness', 'recent head injury'): 2\n"
     ]
    }
   ],
   "source": [
    "summarize_values(select_columns(survey, 'health'))"
   ]
  },
  {
   "cell_type": "code",
   "execution_count": 14,
   "id": "2273a064",
   "metadata": {},
   "outputs": [
    {
     "name": "stdout",
     "output_type": "stream",
     "text": [
      "('', 'color vision'): 111\n",
      "('', 'vision impaired'): 15\n"
     ]
    }
   ],
   "source": [
    "summarize_values(select_columns(survey, 'vision'))"
   ]
  },
  {
   "cell_type": "code",
   "execution_count": 15,
   "id": "686e14d1",
   "metadata": {},
   "outputs": [
    {
     "name": "stdout",
     "output_type": "stream",
     "text": [
      "('', 'water intake'): [0. 1. 3. 4. 6.]\n"
     ]
    }
   ],
   "source": [
    "summarize_values(select_columns(survey, 'water'), how='hist')"
   ]
  },
  {
   "cell_type": "code",
   "execution_count": 16,
   "id": "31b60039",
   "metadata": {},
   "outputs": [
    {
     "name": "stdout",
     "output_type": "stream",
     "text": [
      "('', 'coffee intake'): [0. 0. 1. 2. 4.]\n"
     ]
    }
   ],
   "source": [
    "summarize_values(select_columns(survey, 'coffee'), how='hist')"
   ]
  }
 ],
 "metadata": {
  "kernelspec": {
   "display_name": "Python 3",
   "language": "python",
   "name": "python3"
  },
  "language_info": {
   "codemirror_mode": {
    "name": "ipython",
    "version": 3
   },
   "file_extension": ".py",
   "mimetype": "text/x-python",
   "name": "python",
   "nbconvert_exporter": "python",
   "pygments_lexer": "ipython3",
   "version": "3.8.10"
  }
 },
 "nbformat": 4,
 "nbformat_minor": 5
}
