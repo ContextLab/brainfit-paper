{
 "cells": [
  {
   "cell_type": "code",
   "execution_count": 1,
   "id": "c2658356",
   "metadata": {},
   "outputs": [],
   "source": [
    "import pandas as pd\n",
    "import numpy as np\n",
    "import seaborn as sns\n",
    "import matplotlib as mpl\n",
    "from matplotlib import pyplot as plt\n",
    "from scipy.spatial.distance import pdist, squareform\n",
    "\n",
    "import warnings\n",
    "import os\n",
    "import pickle\n",
    "\n",
    "from loader import load, get_formatted_data, get_raw_feature, DATA_DIR\n",
    "from free_recall import create_fr_plots, split_by_feature, get_bounds\n",
    "from fitness import format_text"
   ]
  },
  {
   "cell_type": "code",
   "execution_count": 2,
   "id": "6fcf35a4",
   "metadata": {},
   "outputs": [],
   "source": [
    "SMALL_SIZE = 8\n",
    "MEDIUM_SIZE = 10\n",
    "BIGGER_SIZE = 12\n",
    "\n",
    "plt.rc('font', size=SMALL_SIZE)          # controls default text sizes\n",
    "plt.rc('axes', titlesize=SMALL_SIZE)     # fontsize of the axes title\n",
    "plt.rc('axes', labelsize=MEDIUM_SIZE)    # fontsize of the x and y labels\n",
    "plt.rc('xtick', labelsize=SMALL_SIZE)    # fontsize of the tick labels\n",
    "plt.rc('ytick', labelsize=SMALL_SIZE)    # fontsize of the tick labels\n",
    "plt.rc('legend', fontsize=SMALL_SIZE)    # legend fontsize\n",
    "plt.rc('figure', titlesize=BIGGER_SIZE)  # fontsize of the figure title"
   ]
  },
  {
   "cell_type": "code",
   "execution_count": 3,
   "id": "72b8cf2e",
   "metadata": {},
   "outputs": [],
   "source": [
    "data = get_formatted_data()\n",
    "_, fitbit, _ = load(recent=7, baseline=30)\n",
    "\n",
    "# do some cleaning up to make parsing easier in this notebook\n",
    "columns = [': '.join(c) if len(c[0]) > 0 else c[1] for c in fitbit.columns]\n",
    "columns = [c.replace(' / ', '/') for c in columns]\n",
    "fitbit = pd.DataFrame(index=fitbit.index, columns=columns, data=fitbit.values).drop(columns=[c for c in columns if 'efficiency' in c])\n",
    "fitbit['sleep duration: recent'] /= (60 * 60 * 1000) # convert ms to hours"
   ]
  },
  {
   "cell_type": "code",
   "execution_count": 4,
   "id": "68ec351a",
   "metadata": {},
   "outputs": [],
   "source": [
    "with open(os.path.join(DATA_DIR, 'behavioral_summary.pkl'), 'rb') as f:\n",
    "    behavioral = pickle.load(f)\n",
    "bounds = [0, 25, 50, 75, 100]"
   ]
  },
  {
   "cell_type": "code",
   "execution_count": 5,
   "id": "aa6cbbd0",
   "metadata": {},
   "outputs": [],
   "source": [
    "tasks = ['Free recall', 'Naturalistic recall', 'Foreign language flashcards', 'Spatial learning']\n",
    "conditions = ['Immediate', 'Delayed']\n",
    "\n",
    "bounds = [0, 25, 50, 75, 100]\n",
    "task_colors = {t: c for t, c in zip(tasks, ['#3FA9F5', '#7AC943', '#FF931E', '#FF1D25'])}\n",
    "condition_colors = ['#CCCCCC', '#1A1A1A']\n",
    "\n",
    "task_cmaps = {t: sns.color_palette(f'light:{c}', n_colors=len(bounds)) for t, c in task_colors.items()}\n",
    "task_cmaps_extended = {t: sns.color_palette(f'light:{c}', as_cmap=True) for t, c in task_colors.items()}"
   ]
  },
  {
   "cell_type": "markdown",
   "id": "f0549327",
   "metadata": {},
   "source": [
    "# Load in fitness data\n",
    "\n",
    "Get summaries of recent measurements and recent vs. baseline measurements:\n",
    "  - Activity (steps, zone minutes, floors/elevation)\n",
    "  - Resting heart rate\n",
    "  - Sleep"
   ]
  },
  {
   "cell_type": "code",
   "execution_count": 6,
   "id": "bdf74912",
   "metadata": {},
   "outputs": [
    {
     "data": {
      "text/html": [
       "<div>\n",
       "<style scoped>\n",
       "    .dataframe tbody tr th:only-of-type {\n",
       "        vertical-align: middle;\n",
       "    }\n",
       "\n",
       "    .dataframe tbody tr th {\n",
       "        vertical-align: top;\n",
       "    }\n",
       "\n",
       "    .dataframe thead th {\n",
       "        text-align: right;\n",
       "    }\n",
       "</style>\n",
       "<table border=\"1\" class=\"dataframe\">\n",
       "  <thead>\n",
       "    <tr style=\"text-align: right;\">\n",
       "      <th></th>\n",
       "      <th>BMI</th>\n",
       "      <th>body fat</th>\n",
       "      <th>weight</th>\n",
       "      <th>resting heart rate: recent</th>\n",
       "      <th>resting heart rate: recent/baseline</th>\n",
       "      <th>sleep duration: recent</th>\n",
       "      <th>sleep duration: recent/baseline</th>\n",
       "      <th>steps: recent</th>\n",
       "      <th>steps: recent/baseline</th>\n",
       "      <th>distance: recent</th>\n",
       "      <th>...</th>\n",
       "      <th>excess calories: recent</th>\n",
       "      <th>out-of-range HR: recent</th>\n",
       "      <th>out-of-range HR: recent/baseline</th>\n",
       "      <th>fat burn HR: recent</th>\n",
       "      <th>fat burn HR: recent/baseline</th>\n",
       "      <th>cardio HR: recent</th>\n",
       "      <th>cardio HR: recent/baseline</th>\n",
       "      <th>peak HR: recent</th>\n",
       "      <th>peak HR: recent/baseline</th>\n",
       "      <th>HR variability</th>\n",
       "    </tr>\n",
       "  </thead>\n",
       "  <tbody>\n",
       "    <tr>\n",
       "      <th>P0</th>\n",
       "      <td>27.770063</td>\n",
       "      <td>30.000</td>\n",
       "      <td>89.975</td>\n",
       "      <td>NaN</td>\n",
       "      <td>NaN</td>\n",
       "      <td>NaN</td>\n",
       "      <td>NaN</td>\n",
       "      <td>3470.875</td>\n",
       "      <td>0.915239</td>\n",
       "      <td>2.592866</td>\n",
       "      <td>...</td>\n",
       "      <td>446.750</td>\n",
       "      <td>NaN</td>\n",
       "      <td>NaN</td>\n",
       "      <td>NaN</td>\n",
       "      <td>NaN</td>\n",
       "      <td>NaN</td>\n",
       "      <td>NaN</td>\n",
       "      <td>NaN</td>\n",
       "      <td>NaN</td>\n",
       "      <td>NaN</td>\n",
       "    </tr>\n",
       "    <tr>\n",
       "      <th>P1</th>\n",
       "      <td>NaN</td>\n",
       "      <td>NaN</td>\n",
       "      <td>NaN</td>\n",
       "      <td>NaN</td>\n",
       "      <td>NaN</td>\n",
       "      <td>NaN</td>\n",
       "      <td>NaN</td>\n",
       "      <td>0.000</td>\n",
       "      <td>NaN</td>\n",
       "      <td>0.000000</td>\n",
       "      <td>...</td>\n",
       "      <td>0.000</td>\n",
       "      <td>NaN</td>\n",
       "      <td>NaN</td>\n",
       "      <td>NaN</td>\n",
       "      <td>NaN</td>\n",
       "      <td>NaN</td>\n",
       "      <td>NaN</td>\n",
       "      <td>NaN</td>\n",
       "      <td>NaN</td>\n",
       "      <td>NaN</td>\n",
       "    </tr>\n",
       "    <tr>\n",
       "      <th>P2</th>\n",
       "      <td>32.510139</td>\n",
       "      <td>25.000</td>\n",
       "      <td>99.790</td>\n",
       "      <td>77.625</td>\n",
       "      <td>0.985550</td>\n",
       "      <td>NaN</td>\n",
       "      <td>NaN</td>\n",
       "      <td>11147.375</td>\n",
       "      <td>1.267702</td>\n",
       "      <td>7.428272</td>\n",
       "      <td>...</td>\n",
       "      <td>1487.875</td>\n",
       "      <td>688.375</td>\n",
       "      <td>0.88621</td>\n",
       "      <td>643.500</td>\n",
       "      <td>1.122985</td>\n",
       "      <td>7.250</td>\n",
       "      <td>0.858255</td>\n",
       "      <td>0.25</td>\n",
       "      <td>1.187500</td>\n",
       "      <td>11.663580</td>\n",
       "    </tr>\n",
       "    <tr>\n",
       "      <th>P3</th>\n",
       "      <td>NaN</td>\n",
       "      <td>NaN</td>\n",
       "      <td>NaN</td>\n",
       "      <td>NaN</td>\n",
       "      <td>NaN</td>\n",
       "      <td>NaN</td>\n",
       "      <td>NaN</td>\n",
       "      <td>NaN</td>\n",
       "      <td>NaN</td>\n",
       "      <td>NaN</td>\n",
       "      <td>...</td>\n",
       "      <td>NaN</td>\n",
       "      <td>NaN</td>\n",
       "      <td>NaN</td>\n",
       "      <td>NaN</td>\n",
       "      <td>NaN</td>\n",
       "      <td>NaN</td>\n",
       "      <td>NaN</td>\n",
       "      <td>NaN</td>\n",
       "      <td>NaN</td>\n",
       "      <td>NaN</td>\n",
       "    </tr>\n",
       "    <tr>\n",
       "      <th>P4</th>\n",
       "      <td>22.257710</td>\n",
       "      <td>NaN</td>\n",
       "      <td>62.596</td>\n",
       "      <td>NaN</td>\n",
       "      <td>NaN</td>\n",
       "      <td>NaN</td>\n",
       "      <td>NaN</td>\n",
       "      <td>0.000</td>\n",
       "      <td>NaN</td>\n",
       "      <td>0.000000</td>\n",
       "      <td>...</td>\n",
       "      <td>0.000</td>\n",
       "      <td>NaN</td>\n",
       "      <td>NaN</td>\n",
       "      <td>NaN</td>\n",
       "      <td>NaN</td>\n",
       "      <td>NaN</td>\n",
       "      <td>NaN</td>\n",
       "      <td>NaN</td>\n",
       "      <td>NaN</td>\n",
       "      <td>NaN</td>\n",
       "    </tr>\n",
       "    <tr>\n",
       "      <th>...</th>\n",
       "      <td>...</td>\n",
       "      <td>...</td>\n",
       "      <td>...</td>\n",
       "      <td>...</td>\n",
       "      <td>...</td>\n",
       "      <td>...</td>\n",
       "      <td>...</td>\n",
       "      <td>...</td>\n",
       "      <td>...</td>\n",
       "      <td>...</td>\n",
       "      <td>...</td>\n",
       "      <td>...</td>\n",
       "      <td>...</td>\n",
       "      <td>...</td>\n",
       "      <td>...</td>\n",
       "      <td>...</td>\n",
       "      <td>...</td>\n",
       "      <td>...</td>\n",
       "      <td>...</td>\n",
       "      <td>...</td>\n",
       "      <td>...</td>\n",
       "    </tr>\n",
       "    <tr>\n",
       "      <th>P108</th>\n",
       "      <td>29.725172</td>\n",
       "      <td>29.868</td>\n",
       "      <td>86.108</td>\n",
       "      <td>NaN</td>\n",
       "      <td>NaN</td>\n",
       "      <td>NaN</td>\n",
       "      <td>NaN</td>\n",
       "      <td>0.000</td>\n",
       "      <td>0.000000</td>\n",
       "      <td>0.000000</td>\n",
       "      <td>...</td>\n",
       "      <td>0.000</td>\n",
       "      <td>NaN</td>\n",
       "      <td>NaN</td>\n",
       "      <td>NaN</td>\n",
       "      <td>NaN</td>\n",
       "      <td>NaN</td>\n",
       "      <td>NaN</td>\n",
       "      <td>NaN</td>\n",
       "      <td>NaN</td>\n",
       "      <td>NaN</td>\n",
       "    </tr>\n",
       "    <tr>\n",
       "      <th>P109</th>\n",
       "      <td>40.642212</td>\n",
       "      <td>NaN</td>\n",
       "      <td>117.456</td>\n",
       "      <td>55.875</td>\n",
       "      <td>0.990399</td>\n",
       "      <td>NaN</td>\n",
       "      <td>NaN</td>\n",
       "      <td>3571.375</td>\n",
       "      <td>2.819350</td>\n",
       "      <td>2.507102</td>\n",
       "      <td>...</td>\n",
       "      <td>940.000</td>\n",
       "      <td>1246.750</td>\n",
       "      <td>1.07393</td>\n",
       "      <td>66.875</td>\n",
       "      <td>0.869375</td>\n",
       "      <td>2.375</td>\n",
       "      <td>0.428819</td>\n",
       "      <td>0.25</td>\n",
       "      <td>0.180556</td>\n",
       "      <td>16.942527</td>\n",
       "    </tr>\n",
       "    <tr>\n",
       "      <th>P110</th>\n",
       "      <td>NaN</td>\n",
       "      <td>NaN</td>\n",
       "      <td>NaN</td>\n",
       "      <td>NaN</td>\n",
       "      <td>NaN</td>\n",
       "      <td>NaN</td>\n",
       "      <td>NaN</td>\n",
       "      <td>NaN</td>\n",
       "      <td>NaN</td>\n",
       "      <td>NaN</td>\n",
       "      <td>...</td>\n",
       "      <td>NaN</td>\n",
       "      <td>NaN</td>\n",
       "      <td>NaN</td>\n",
       "      <td>NaN</td>\n",
       "      <td>NaN</td>\n",
       "      <td>NaN</td>\n",
       "      <td>NaN</td>\n",
       "      <td>NaN</td>\n",
       "      <td>NaN</td>\n",
       "      <td>NaN</td>\n",
       "    </tr>\n",
       "    <tr>\n",
       "      <th>P111</th>\n",
       "      <td>NaN</td>\n",
       "      <td>NaN</td>\n",
       "      <td>NaN</td>\n",
       "      <td>NaN</td>\n",
       "      <td>NaN</td>\n",
       "      <td>NaN</td>\n",
       "      <td>NaN</td>\n",
       "      <td>NaN</td>\n",
       "      <td>NaN</td>\n",
       "      <td>NaN</td>\n",
       "      <td>...</td>\n",
       "      <td>NaN</td>\n",
       "      <td>NaN</td>\n",
       "      <td>NaN</td>\n",
       "      <td>NaN</td>\n",
       "      <td>NaN</td>\n",
       "      <td>NaN</td>\n",
       "      <td>NaN</td>\n",
       "      <td>NaN</td>\n",
       "      <td>NaN</td>\n",
       "      <td>NaN</td>\n",
       "    </tr>\n",
       "    <tr>\n",
       "      <th>P112</th>\n",
       "      <td>20.052015</td>\n",
       "      <td>NaN</td>\n",
       "      <td>59.875</td>\n",
       "      <td>NaN</td>\n",
       "      <td>NaN</td>\n",
       "      <td>NaN</td>\n",
       "      <td>NaN</td>\n",
       "      <td>0.000</td>\n",
       "      <td>NaN</td>\n",
       "      <td>0.000000</td>\n",
       "      <td>...</td>\n",
       "      <td>0.000</td>\n",
       "      <td>NaN</td>\n",
       "      <td>NaN</td>\n",
       "      <td>NaN</td>\n",
       "      <td>NaN</td>\n",
       "      <td>NaN</td>\n",
       "      <td>NaN</td>\n",
       "      <td>NaN</td>\n",
       "      <td>NaN</td>\n",
       "      <td>NaN</td>\n",
       "    </tr>\n",
       "  </tbody>\n",
       "</table>\n",
       "<p>113 rows × 32 columns</p>\n",
       "</div>"
      ],
      "text/plain": [
       "            BMI  body fat   weight  resting heart rate: recent  \\\n",
       "P0    27.770063    30.000   89.975                         NaN   \n",
       "P1          NaN       NaN      NaN                         NaN   \n",
       "P2    32.510139    25.000   99.790                      77.625   \n",
       "P3          NaN       NaN      NaN                         NaN   \n",
       "P4    22.257710       NaN   62.596                         NaN   \n",
       "...         ...       ...      ...                         ...   \n",
       "P108  29.725172    29.868   86.108                         NaN   \n",
       "P109  40.642212       NaN  117.456                      55.875   \n",
       "P110        NaN       NaN      NaN                         NaN   \n",
       "P111        NaN       NaN      NaN                         NaN   \n",
       "P112  20.052015       NaN   59.875                         NaN   \n",
       "\n",
       "      resting heart rate: recent/baseline  sleep duration: recent  \\\n",
       "P0                                    NaN                     NaN   \n",
       "P1                                    NaN                     NaN   \n",
       "P2                               0.985550                     NaN   \n",
       "P3                                    NaN                     NaN   \n",
       "P4                                    NaN                     NaN   \n",
       "...                                   ...                     ...   \n",
       "P108                                  NaN                     NaN   \n",
       "P109                             0.990399                     NaN   \n",
       "P110                                  NaN                     NaN   \n",
       "P111                                  NaN                     NaN   \n",
       "P112                                  NaN                     NaN   \n",
       "\n",
       "      sleep duration: recent/baseline  steps: recent  steps: recent/baseline  \\\n",
       "P0                                NaN       3470.875                0.915239   \n",
       "P1                                NaN          0.000                     NaN   \n",
       "P2                                NaN      11147.375                1.267702   \n",
       "P3                                NaN            NaN                     NaN   \n",
       "P4                                NaN          0.000                     NaN   \n",
       "...                               ...            ...                     ...   \n",
       "P108                              NaN          0.000                0.000000   \n",
       "P109                              NaN       3571.375                2.819350   \n",
       "P110                              NaN            NaN                     NaN   \n",
       "P111                              NaN            NaN                     NaN   \n",
       "P112                              NaN          0.000                     NaN   \n",
       "\n",
       "      distance: recent  ...  excess calories: recent  out-of-range HR: recent  \\\n",
       "P0            2.592866  ...                  446.750                      NaN   \n",
       "P1            0.000000  ...                    0.000                      NaN   \n",
       "P2            7.428272  ...                 1487.875                  688.375   \n",
       "P3                 NaN  ...                      NaN                      NaN   \n",
       "P4            0.000000  ...                    0.000                      NaN   \n",
       "...                ...  ...                      ...                      ...   \n",
       "P108          0.000000  ...                    0.000                      NaN   \n",
       "P109          2.507102  ...                  940.000                 1246.750   \n",
       "P110               NaN  ...                      NaN                      NaN   \n",
       "P111               NaN  ...                      NaN                      NaN   \n",
       "P112          0.000000  ...                    0.000                      NaN   \n",
       "\n",
       "      out-of-range HR: recent/baseline  fat burn HR: recent  \\\n",
       "P0                                 NaN                  NaN   \n",
       "P1                                 NaN                  NaN   \n",
       "P2                             0.88621              643.500   \n",
       "P3                                 NaN                  NaN   \n",
       "P4                                 NaN                  NaN   \n",
       "...                                ...                  ...   \n",
       "P108                               NaN                  NaN   \n",
       "P109                           1.07393               66.875   \n",
       "P110                               NaN                  NaN   \n",
       "P111                               NaN                  NaN   \n",
       "P112                               NaN                  NaN   \n",
       "\n",
       "      fat burn HR: recent/baseline  cardio HR: recent  \\\n",
       "P0                             NaN                NaN   \n",
       "P1                             NaN                NaN   \n",
       "P2                        1.122985              7.250   \n",
       "P3                             NaN                NaN   \n",
       "P4                             NaN                NaN   \n",
       "...                            ...                ...   \n",
       "P108                           NaN                NaN   \n",
       "P109                      0.869375              2.375   \n",
       "P110                           NaN                NaN   \n",
       "P111                           NaN                NaN   \n",
       "P112                           NaN                NaN   \n",
       "\n",
       "      cardio HR: recent/baseline  peak HR: recent  peak HR: recent/baseline  \\\n",
       "P0                           NaN              NaN                       NaN   \n",
       "P1                           NaN              NaN                       NaN   \n",
       "P2                      0.858255             0.25                  1.187500   \n",
       "P3                           NaN              NaN                       NaN   \n",
       "P4                           NaN              NaN                       NaN   \n",
       "...                          ...              ...                       ...   \n",
       "P108                         NaN              NaN                       NaN   \n",
       "P109                    0.428819             0.25                  0.180556   \n",
       "P110                         NaN              NaN                       NaN   \n",
       "P111                         NaN              NaN                       NaN   \n",
       "P112                         NaN              NaN                       NaN   \n",
       "\n",
       "      HR variability  \n",
       "P0               NaN  \n",
       "P1               NaN  \n",
       "P2         11.663580  \n",
       "P3               NaN  \n",
       "P4               NaN  \n",
       "...              ...  \n",
       "P108             NaN  \n",
       "P109       16.942527  \n",
       "P110             NaN  \n",
       "P111             NaN  \n",
       "P112             NaN  \n",
       "\n",
       "[113 rows x 32 columns]"
      ]
     },
     "execution_count": 6,
     "metadata": {},
     "output_type": "execute_result"
    }
   ],
   "source": [
    "fitness_tags = ['baseline' if 'baseline' in c else 'recent' if 'recent' in c else 'static' for c in fitbit.columns]\n",
    "fitbit"
   ]
  },
  {
   "cell_type": "code",
   "execution_count": 7,
   "id": "56b6c50c",
   "metadata": {},
   "outputs": [
    {
     "data": {
      "text/html": [
       "<div>\n",
       "<style scoped>\n",
       "    .dataframe tbody tr th:only-of-type {\n",
       "        vertical-align: middle;\n",
       "    }\n",
       "\n",
       "    .dataframe tbody tr th {\n",
       "        vertical-align: top;\n",
       "    }\n",
       "\n",
       "    .dataframe thead th {\n",
       "        text-align: right;\n",
       "    }\n",
       "</style>\n",
       "<table border=\"1\" class=\"dataframe\">\n",
       "  <thead>\n",
       "    <tr style=\"text-align: right;\">\n",
       "      <th></th>\n",
       "      <th>Free recall (immediate)</th>\n",
       "      <th>Free recall (delayed)</th>\n",
       "      <th>Naturalistic recall (immediate)</th>\n",
       "      <th>Naturalistic recall (delayed)</th>\n",
       "      <th>Foreign language flashcards (immediate)</th>\n",
       "      <th>Foreign language flashcards (delayed)</th>\n",
       "      <th>Spatial learning (intercept)</th>\n",
       "      <th>Spatial learning (slope)</th>\n",
       "    </tr>\n",
       "  </thead>\n",
       "  <tbody>\n",
       "    <tr>\n",
       "      <th>P0</th>\n",
       "      <td>0.515625</td>\n",
       "      <td>0.187500</td>\n",
       "      <td>0.901203</td>\n",
       "      <td>0.917849</td>\n",
       "      <td>NaN</td>\n",
       "      <td>NaN</td>\n",
       "      <td>0.740677</td>\n",
       "      <td>0.620953</td>\n",
       "    </tr>\n",
       "    <tr>\n",
       "      <th>P1</th>\n",
       "      <td>0.984375</td>\n",
       "      <td>0.906250</td>\n",
       "      <td>0.850649</td>\n",
       "      <td>0.563574</td>\n",
       "      <td>0.8</td>\n",
       "      <td>NaN</td>\n",
       "      <td>0.830731</td>\n",
       "      <td>0.496952</td>\n",
       "    </tr>\n",
       "    <tr>\n",
       "      <th>P2</th>\n",
       "      <td>0.671875</td>\n",
       "      <td>0.265625</td>\n",
       "      <td>0.910146</td>\n",
       "      <td>0.831101</td>\n",
       "      <td>0.7</td>\n",
       "      <td>0.7</td>\n",
       "      <td>0.962055</td>\n",
       "      <td>0.080893</td>\n",
       "    </tr>\n",
       "    <tr>\n",
       "      <th>P3</th>\n",
       "      <td>0.468750</td>\n",
       "      <td>0.312500</td>\n",
       "      <td>0.851312</td>\n",
       "      <td>0.885206</td>\n",
       "      <td>NaN</td>\n",
       "      <td>NaN</td>\n",
       "      <td>0.801884</td>\n",
       "      <td>0.500854</td>\n",
       "    </tr>\n",
       "    <tr>\n",
       "      <th>P4</th>\n",
       "      <td>0.640625</td>\n",
       "      <td>0.328125</td>\n",
       "      <td>0.746228</td>\n",
       "      <td>0.773765</td>\n",
       "      <td>0.8</td>\n",
       "      <td>0.8</td>\n",
       "      <td>0.629321</td>\n",
       "      <td>0.80549</td>\n",
       "    </tr>\n",
       "    <tr>\n",
       "      <th>...</th>\n",
       "      <td>...</td>\n",
       "      <td>...</td>\n",
       "      <td>...</td>\n",
       "      <td>...</td>\n",
       "      <td>...</td>\n",
       "      <td>...</td>\n",
       "      <td>...</td>\n",
       "      <td>...</td>\n",
       "    </tr>\n",
       "    <tr>\n",
       "      <th>P108</th>\n",
       "      <td>0.281250</td>\n",
       "      <td>0.140625</td>\n",
       "      <td>0.728443</td>\n",
       "      <td>0.715547</td>\n",
       "      <td>0.3</td>\n",
       "      <td>0.5</td>\n",
       "      <td>0.254845</td>\n",
       "      <td>0.761135</td>\n",
       "    </tr>\n",
       "    <tr>\n",
       "      <th>P109</th>\n",
       "      <td>0.640625</td>\n",
       "      <td>0.375000</td>\n",
       "      <td>0.649809</td>\n",
       "      <td>0.780077</td>\n",
       "      <td>0.8</td>\n",
       "      <td>0.7</td>\n",
       "      <td>0.576616</td>\n",
       "      <td>0.617924</td>\n",
       "    </tr>\n",
       "    <tr>\n",
       "      <th>P110</th>\n",
       "      <td>0.453125</td>\n",
       "      <td>0.015625</td>\n",
       "      <td>0.874351</td>\n",
       "      <td>0.768864</td>\n",
       "      <td>0.9</td>\n",
       "      <td>0.7</td>\n",
       "      <td>0.784739</td>\n",
       "      <td>0.468243</td>\n",
       "    </tr>\n",
       "    <tr>\n",
       "      <th>P111</th>\n",
       "      <td>0.328125</td>\n",
       "      <td>0.062500</td>\n",
       "      <td>NaN</td>\n",
       "      <td>0.998227</td>\n",
       "      <td>0.6</td>\n",
       "      <td>0.5</td>\n",
       "      <td>0.612979</td>\n",
       "      <td>0.81629</td>\n",
       "    </tr>\n",
       "    <tr>\n",
       "      <th>P112</th>\n",
       "      <td>0.875000</td>\n",
       "      <td>0.000000</td>\n",
       "      <td>0.784234</td>\n",
       "      <td>NaN</td>\n",
       "      <td>NaN</td>\n",
       "      <td>0.9</td>\n",
       "      <td>1.0</td>\n",
       "      <td>0.165571</td>\n",
       "    </tr>\n",
       "  </tbody>\n",
       "</table>\n",
       "<p>113 rows × 8 columns</p>\n",
       "</div>"
      ],
      "text/plain": [
       "      Free recall (immediate)  Free recall (delayed)  \\\n",
       "P0                   0.515625               0.187500   \n",
       "P1                   0.984375               0.906250   \n",
       "P2                   0.671875               0.265625   \n",
       "P3                   0.468750               0.312500   \n",
       "P4                   0.640625               0.328125   \n",
       "...                       ...                    ...   \n",
       "P108                 0.281250               0.140625   \n",
       "P109                 0.640625               0.375000   \n",
       "P110                 0.453125               0.015625   \n",
       "P111                 0.328125               0.062500   \n",
       "P112                 0.875000               0.000000   \n",
       "\n",
       "      Naturalistic recall (immediate)  Naturalistic recall (delayed)  \\\n",
       "P0                           0.901203                       0.917849   \n",
       "P1                           0.850649                       0.563574   \n",
       "P2                           0.910146                       0.831101   \n",
       "P3                           0.851312                       0.885206   \n",
       "P4                           0.746228                       0.773765   \n",
       "...                               ...                            ...   \n",
       "P108                         0.728443                       0.715547   \n",
       "P109                         0.649809                       0.780077   \n",
       "P110                         0.874351                       0.768864   \n",
       "P111                              NaN                       0.998227   \n",
       "P112                         0.784234                            NaN   \n",
       "\n",
       "      Foreign language flashcards (immediate)  \\\n",
       "P0                                        NaN   \n",
       "P1                                        0.8   \n",
       "P2                                        0.7   \n",
       "P3                                        NaN   \n",
       "P4                                        0.8   \n",
       "...                                       ...   \n",
       "P108                                      0.3   \n",
       "P109                                      0.8   \n",
       "P110                                      0.9   \n",
       "P111                                      0.6   \n",
       "P112                                      NaN   \n",
       "\n",
       "      Foreign language flashcards (delayed) Spatial learning (intercept)  \\\n",
       "P0                                      NaN                     0.740677   \n",
       "P1                                      NaN                     0.830731   \n",
       "P2                                      0.7                     0.962055   \n",
       "P3                                      NaN                     0.801884   \n",
       "P4                                      0.8                     0.629321   \n",
       "...                                     ...                          ...   \n",
       "P108                                    0.5                     0.254845   \n",
       "P109                                    0.7                     0.576616   \n",
       "P110                                    0.7                     0.784739   \n",
       "P111                                    0.5                     0.612979   \n",
       "P112                                    0.9                          1.0   \n",
       "\n",
       "     Spatial learning (slope)  \n",
       "P0                   0.620953  \n",
       "P1                   0.496952  \n",
       "P2                   0.080893  \n",
       "P3                   0.500854  \n",
       "P4                    0.80549  \n",
       "...                       ...  \n",
       "P108                 0.761135  \n",
       "P109                 0.617924  \n",
       "P110                 0.468243  \n",
       "P111                  0.81629  \n",
       "P112                 0.165571  \n",
       "\n",
       "[113 rows x 8 columns]"
      ]
     },
     "execution_count": 7,
     "metadata": {},
     "output_type": "execute_result"
    }
   ],
   "source": [
    "behavioral_tags = ['delayed' if 'delayed' in c else 'immediate' for c in behavioral.columns]\n",
    "behavioral"
   ]
  },
  {
   "cell_type": "markdown",
   "id": "1582021a",
   "metadata": {},
   "source": [
    "# Plot distributions of fitness stats\n",
    "\n",
    "For each column of the behavioral dataframe, divide participants based on behavioral performance (using `bounds`).  Then plot the distribution of each fitness variable.  Create one panel for each fitness variable, where each column has one distribution per group of particiapants (divided by behavior for that task).\n",
    "\n",
    "Full figure:\n",
    "  - Rows: behavioral columns\n",
    "  - Columns: fitness vars\n",
    "  - Each panel: distributions of fitness var-- one for each group (as defined by bounds applied to behavioral var)\n",
    "  \n",
    "Create 6 figures-- each combination of:\n",
    "  - Immediate vs. delayed (behavioral)\n",
    "  - Static vs. recent vs. baseline (fitness)"
   ]
  },
  {
   "cell_type": "code",
   "execution_count": 8,
   "id": "b9545d56",
   "metadata": {},
   "outputs": [],
   "source": [
    "def split_distplots(vals, group_vals, bounds, cmap, bins=10, xlabel='Value', ylabel='Number of participants', fontsize=14, **kwargs):\n",
    "    x = pd.DataFrame(vals)            \n",
    "    x['group'] = np.digitize(group_vals, get_bounds(group_vals, bounds=bounds))\n",
    "    x = x.query(f'group < {len(bounds)}').dropna(axis=0, how='any')        \n",
    "    \n",
    "    sns.histplot(x, x=x.columns[0], hue='group', palette=cmap[:len(np.unique(x['group']))],\n",
    "                 fill=True, legend=False, bins=bins, **kwargs)\n",
    "    \n",
    "    ax = kwargs.pop('ax', plt.gca())\n",
    "    if len(xlabel) > 0:\n",
    "        ax.set_xlabel(xlabel, fontsize=fontsize)\n",
    "    if len(ylabel) > 0:\n",
    "        ax.set_ylabel(ylabel, fontsize=fontsize)"
   ]
  },
  {
   "cell_type": "code",
   "execution_count": 9,
   "id": "20309d5f",
   "metadata": {},
   "outputs": [],
   "source": [
    "def split_scatterplots(vals, group_vals, bounds, cmap, xlabel='', ylabel='', fontsize=14, **kwargs):    \n",
    "    sns.scatterplot(x=vals.values.ravel(), y=group_vals.values.ravel(), hue=group_vals.values.ravel(), palette=cmap,\n",
    "                    legend=False, **kwargs)\n",
    "    \n",
    "    ax = kwargs.pop('ax', plt.gca())\n",
    "    if len(xlabel) > 0:\n",
    "        ax.set_xlabel(xlabel, fontsize=fontsize)\n",
    "    if len(ylabel) > 0:\n",
    "        ax.set_ylabel(ylabel, fontsize=fontsize)"
   ]
  },
  {
   "cell_type": "code",
   "execution_count": 10,
   "id": "08221d96",
   "metadata": {},
   "outputs": [],
   "source": [
    "def grid_helper(behavioral, fitbit, bounds, task_cmaps, plotfun, **kwargs):\n",
    "    fig, axes = plt.subplots(nrows=len(behavioral.columns), ncols=len(fitbit.columns),\n",
    "                             sharex='col', sharey='row', figsize=(2*len(fitbit.columns), 2*len(behavioral.columns)))\n",
    "\n",
    "    for i, b in enumerate(behavioral.columns):                    \n",
    "        cmap = [v for k, v in task_cmaps.items() if k in b][0]  # get this task's colormap        \n",
    "        for j, f in enumerate(fitbit.columns):\n",
    "            if i == len(behavioral.columns) - 1:\n",
    "                xlabel = format_text(f)\n",
    "            else:\n",
    "                xlabel = ''    \n",
    "            \n",
    "            if j == 0:\n",
    "                ylabel = format_text(b)\n",
    "            else:\n",
    "                ylabel = ''\n",
    "                        \n",
    "            plotfun(pd.DataFrame(index=fitbit.index, columns=[format_text(f)], data=fitbit[f].values),\n",
    "                    behavioral[b], bounds, cmap=cmap, ax=axes[i, j], \n",
    "                    xlabel=xlabel, ylabel=ylabel, fontsize=8,\n",
    "                    **kwargs)\n",
    "\n",
    "    return fig"
   ]
  },
  {
   "cell_type": "code",
   "execution_count": 11,
   "id": "00106f18",
   "metadata": {},
   "outputs": [],
   "source": [
    "def distplot_grid(behavioral, fitbit, bounds, task_cmaps, bins=10, **kwargs):\n",
    "    return grid_helper(behavioral, fitbit, bounds, task_cmaps, split_distplots, bins=bins, **kwargs)"
   ]
  },
  {
   "cell_type": "code",
   "execution_count": 12,
   "id": "3e1ad852",
   "metadata": {},
   "outputs": [],
   "source": [
    "def scatterplot_grid(behavioral, fitbit, bounds, task_cmaps, **kwargs):\n",
    "    return grid_helper(behavioral, fitbit, bounds, task_cmaps, split_scatterplots, **kwargs)"
   ]
  },
  {
   "cell_type": "code",
   "execution_count": 13,
   "id": "d4787c1e",
   "metadata": {},
   "outputs": [],
   "source": [
    "def grid_plotter(behavioral, fitbit, behavioral_tags, fitness_tags, gridplotter, task_cmaps, **kwargs):\n",
    "    for task_cond in np.unique(behavioral_tags):\n",
    "        b = behavioral.loc[:, np.array(behavioral_tags) == task_cond]\n",
    "        for fit_cond in np.unique(fitness_tags):\n",
    "            f = fitbit.loc[:, np.array(fitness_tags) == fit_cond]\n",
    "\n",
    "            plt.clf()\n",
    "            fig = gridplotter(b, f, bounds, task_cmaps, **kwargs)\n",
    "\n",
    "            fname = f'{task_cond}_{fit_cond}_{gridplotter.__name__}.pdf'\n",
    "            fig.savefig(fname)"
   ]
  },
  {
   "cell_type": "code",
   "execution_count": 14,
   "id": "85da917f",
   "metadata": {},
   "outputs": [
    {
     "data": {
      "text/plain": [
       "<Figure size 432x288 with 0 Axes>"
      ]
     },
     "metadata": {},
     "output_type": "display_data"
    },
    {
     "data": {
      "text/plain": [
       "<Figure size 2016x432 with 0 Axes>"
      ]
     },
     "metadata": {},
     "output_type": "display_data"
    },
    {
     "data": {
      "text/plain": [
       "<Figure size 2016x432 with 0 Axes>"
      ]
     },
     "metadata": {},
     "output_type": "display_data"
    },
    {
     "data": {
      "text/plain": [
       "<Figure size 576x432 with 0 Axes>"
      ]
     },
     "metadata": {},
     "output_type": "display_data"
    },
    {
     "data": {
      "text/plain": [
       "<Figure size 2016x720 with 0 Axes>"
      ]
     },
     "metadata": {},
     "output_type": "display_data"
    },
    {
     "data": {
      "text/plain": [
       "<Figure size 2016x720 with 0 Axes>"
      ]
     },
     "metadata": {},
     "output_type": "display_data"
    },
    {
     "data": {
      "image/png": "[encoded data removed]",
      "text/plain": [
       "<Figure size 576x720 with 20 Axes>"
      ]
     },
     "metadata": {
      "needs_background": "light"
     },
     "output_type": "display_data"
    }
   ],
   "source": [
    "grid_plotter(behavioral, fitbit, behavioral_tags, fitness_tags, distplot_grid, task_cmaps, bins=15)"
   ]
  },
  {
   "cell_type": "code",
   "execution_count": 15,
   "id": "525c7d15",
   "metadata": {},
   "outputs": [
    {
     "data": {
      "text/plain": [
       "<Figure size 432x288 with 0 Axes>"
      ]
     },
     "metadata": {},
     "output_type": "display_data"
    },
    {
     "data": {
      "text/plain": [
       "<Figure size 2016x432 with 0 Axes>"
      ]
     },
     "metadata": {},
     "output_type": "display_data"
    },
    {
     "data": {
      "text/plain": [
       "<Figure size 2016x432 with 0 Axes>"
      ]
     },
     "metadata": {},
     "output_type": "display_data"
    },
    {
     "data": {
      "text/plain": [
       "<Figure size 576x432 with 0 Axes>"
      ]
     },
     "metadata": {},
     "output_type": "display_data"
    },
    {
     "data": {
      "text/plain": [
       "<Figure size 2016x720 with 0 Axes>"
      ]
     },
     "metadata": {},
     "output_type": "display_data"
    },
    {
     "data": {
      "text/plain": [
       "<Figure size 2016x720 with 0 Axes>"
      ]
     },
     "metadata": {},
     "output_type": "display_data"
    },
    {
     "data": {
      "image/png": "[encoded data removed]",
      "text/plain": [
       "<Figure size 576x720 with 20 Axes>"
      ]
     },
     "metadata": {
      "needs_background": "light"
     },
     "output_type": "display_data"
    }
   ],
   "source": [
    "grid_plotter(behavioral, fitbit, behavioral_tags, fitness_tags, scatterplot_grid, task_cmaps_extended)"
   ]
  },
  {
   "cell_type": "markdown",
   "id": "c6484490",
   "metadata": {},
   "source": [
    "# Plot distributions of fitness variables"
   ]
  },
  {
   "cell_type": "code",
   "execution_count": 16,
   "id": "e8395282",
   "metadata": {},
   "outputs": [
    {
     "name": "stderr",
     "output_type": "stream",
     "text": [
      "/opt/conda/lib/python3.8/site-packages/seaborn/axisgrid.py:409: RuntimeWarning: More than 20 figures have been opened. Figures created through the pyplot interface (`matplotlib.pyplot.figure`) are retained until explicitly closed and may consume too much memory. (To control this warning, see the rcParam `figure.max_open_warning`).\n",
      "  fig = plt.figure(figsize=figsize)\n",
      "/tmp/ipykernel_799/4110361643.py:6: RuntimeWarning: More than 20 figures have been opened. Figures created through the pyplot interface (`matplotlib.pyplot.figure`) are retained until explicitly closed and may consume too much memory. (To control this warning, see the rcParam `figure.max_open_warning`).\n",
      "  fig = plt.figure(figsize=(3, 3))\n"
     ]
    },
    {
     "data": {
      "text/plain": [
       "<Figure size 432x288 with 0 Axes>"
      ]
     },
     "metadata": {},
     "output_type": "display_data"
    },
    {
     "data": {
      "text/plain": [
       "<Figure size 216x216 with 0 Axes>"
      ]
     },
     "metadata": {},
     "output_type": "display_data"
    },
    {
     "data": {
      "text/plain": [
       "<Figure size 216x216 with 0 Axes>"
      ]
     },
     "metadata": {},
     "output_type": "display_data"
    },
    {
     "data": {
      "text/plain": [
       "<Figure size 216x216 with 0 Axes>"
      ]
     },
     "metadata": {},
     "output_type": "display_data"
    },
    {
     "data": {
      "text/plain": [
       "<Figure size 216x216 with 0 Axes>"
      ]
     },
     "metadata": {},
     "output_type": "display_data"
    },
    {
     "data": {
      "text/plain": [
       "<Figure size 216x216 with 0 Axes>"
      ]
     },
     "metadata": {},
     "output_type": "display_data"
    },
    {
     "data": {
      "text/plain": [
       "<Figure size 216x216 with 0 Axes>"
      ]
     },
     "metadata": {},
     "output_type": "display_data"
    },
    {
     "data": {
      "text/plain": [
       "<Figure size 216x216 with 0 Axes>"
      ]
     },
     "metadata": {},
     "output_type": "display_data"
    },
    {
     "data": {
      "text/plain": [
       "<Figure size 216x216 with 0 Axes>"
      ]
     },
     "metadata": {},
     "output_type": "display_data"
    },
    {
     "data": {
      "text/plain": [
       "<Figure size 216x216 with 0 Axes>"
      ]
     },
     "metadata": {},
     "output_type": "display_data"
    },
    {
     "data": {
      "text/plain": [
       "<Figure size 216x216 with 0 Axes>"
      ]
     },
     "metadata": {},
     "output_type": "display_data"
    },
    {
     "data": {
      "text/plain": [
       "<Figure size 216x216 with 0 Axes>"
      ]
     },
     "metadata": {},
     "output_type": "display_data"
    },
    {
     "data": {
      "text/plain": [
       "<Figure size 216x216 with 0 Axes>"
      ]
     },
     "metadata": {},
     "output_type": "display_data"
    },
    {
     "data": {
      "text/plain": [
       "<Figure size 216x216 with 0 Axes>"
      ]
     },
     "metadata": {},
     "output_type": "display_data"
    },
    {
     "data": {
      "text/plain": [
       "<Figure size 216x216 with 0 Axes>"
      ]
     },
     "metadata": {},
     "output_type": "display_data"
    },
    {
     "data": {
      "text/plain": [
       "<Figure size 216x216 with 0 Axes>"
      ]
     },
     "metadata": {},
     "output_type": "display_data"
    },
    {
     "data": {
      "text/plain": [
       "<Figure size 216x216 with 0 Axes>"
      ]
     },
     "metadata": {},
     "output_type": "display_data"
    },
    {
     "data": {
      "text/plain": [
       "<Figure size 216x216 with 0 Axes>"
      ]
     },
     "metadata": {},
     "output_type": "display_data"
    },
    {
     "data": {
      "text/plain": [
       "<Figure size 216x216 with 0 Axes>"
      ]
     },
     "metadata": {},
     "output_type": "display_data"
    },
    {
     "data": {
      "text/plain": [
       "<Figure size 216x216 with 0 Axes>"
      ]
     },
     "metadata": {},
     "output_type": "display_data"
    },
    {
     "data": {
      "text/plain": [
       "<Figure size 216x216 with 0 Axes>"
      ]
     },
     "metadata": {},
     "output_type": "display_data"
    },
    {
     "data": {
      "text/plain": [
       "<Figure size 216x216 with 0 Axes>"
      ]
     },
     "metadata": {},
     "output_type": "display_data"
    },
    {
     "data": {
      "text/plain": [
       "<Figure size 216x216 with 0 Axes>"
      ]
     },
     "metadata": {},
     "output_type": "display_data"
    },
    {
     "data": {
      "text/plain": [
       "<Figure size 216x216 with 0 Axes>"
      ]
     },
     "metadata": {},
     "output_type": "display_data"
    },
    {
     "data": {
      "text/plain": [
       "<Figure size 216x216 with 0 Axes>"
      ]
     },
     "metadata": {},
     "output_type": "display_data"
    },
    {
     "data": {
      "text/plain": [
       "<Figure size 216x216 with 0 Axes>"
      ]
     },
     "metadata": {},
     "output_type": "display_data"
    },
    {
     "data": {
      "text/plain": [
       "<Figure size 216x216 with 0 Axes>"
      ]
     },
     "metadata": {},
     "output_type": "display_data"
    },
    {
     "data": {
      "text/plain": [
       "<Figure size 216x216 with 0 Axes>"
      ]
     },
     "metadata": {},
     "output_type": "display_data"
    },
    {
     "data": {
      "text/plain": [
       "<Figure size 216x216 with 0 Axes>"
      ]
     },
     "metadata": {},
     "output_type": "display_data"
    },
    {
     "data": {
      "text/plain": [
       "<Figure size 216x216 with 0 Axes>"
      ]
     },
     "metadata": {},
     "output_type": "display_data"
    },
    {
     "data": {
      "text/plain": [
       "<Figure size 216x216 with 0 Axes>"
      ]
     },
     "metadata": {},
     "output_type": "display_data"
    },
    {
     "data": {
      "text/plain": [
       "<Figure size 216x216 with 0 Axes>"
      ]
     },
     "metadata": {},
     "output_type": "display_data"
    },
    {
     "data": {
      "text/plain": [
       "<Figure size 216x216 with 0 Axes>"
      ]
     },
     "metadata": {},
     "output_type": "display_data"
    }
   ],
   "source": [
    "color_dict = {f: c for f, c in zip(np.unique(fitness_tags), ['#A81A8A', '#1D2A7C', '#B29802'])}\n",
    "\n",
    "\n",
    "for i, c in enumerate(fitbit.columns):\n",
    "    plt.clf()\n",
    "    fig = plt.figure(figsize=(3, 3))\n",
    "    \n",
    "    sns.displot(fitbit[c], kde=True, color=color_dict[fitness_tags[i]])\n",
    "    plt.ylabel('Number of participants', fontsize=14)\n",
    "    plt.xlabel(format_text(c, width=50), fontsize=14)\n",
    "    \n",
    "    plt.savefig(f\"{c.replace(':', '-').replace('/', '-').replace(' ', '')}_dist.pdf\")\n",
    "    plt.close()"
   ]
  },
  {
   "cell_type": "code",
   "execution_count": 18,
   "id": "cc93e0ad",
   "metadata": {},
   "outputs": [
    {
     "data": {
      "text/html": [
       "<div>\n",
       "<style scoped>\n",
       "    .dataframe tbody tr th:only-of-type {\n",
       "        vertical-align: middle;\n",
       "    }\n",
       "\n",
       "    .dataframe tbody tr th {\n",
       "        vertical-align: top;\n",
       "    }\n",
       "\n",
       "    .dataframe thead th {\n",
       "        text-align: right;\n",
       "    }\n",
       "</style>\n",
       "<table border=\"1\" class=\"dataframe\">\n",
       "  <thead>\n",
       "    <tr style=\"text-align: right;\">\n",
       "      <th></th>\n",
       "      <th>BMI</th>\n",
       "      <th>body fat</th>\n",
       "      <th>weight</th>\n",
       "      <th>resting heart rate: recent</th>\n",
       "      <th>resting heart rate: recent/baseline</th>\n",
       "      <th>sleep duration: recent</th>\n",
       "      <th>sleep duration: recent/baseline</th>\n",
       "      <th>steps: recent</th>\n",
       "      <th>steps: recent/baseline</th>\n",
       "      <th>distance: recent</th>\n",
       "      <th>...</th>\n",
       "      <th>excess calories: recent</th>\n",
       "      <th>out-of-range HR: recent</th>\n",
       "      <th>out-of-range HR: recent/baseline</th>\n",
       "      <th>fat burn HR: recent</th>\n",
       "      <th>fat burn HR: recent/baseline</th>\n",
       "      <th>cardio HR: recent</th>\n",
       "      <th>cardio HR: recent/baseline</th>\n",
       "      <th>peak HR: recent</th>\n",
       "      <th>peak HR: recent/baseline</th>\n",
       "      <th>HR variability</th>\n",
       "    </tr>\n",
       "  </thead>\n",
       "  <tbody>\n",
       "    <tr>\n",
       "      <th>P0</th>\n",
       "      <td>27.770063</td>\n",
       "      <td>30.000</td>\n",
       "      <td>89.975</td>\n",
       "      <td>NaN</td>\n",
       "      <td>NaN</td>\n",
       "      <td>NaN</td>\n",
       "      <td>NaN</td>\n",
       "      <td>3470.875</td>\n",
       "      <td>0.915239</td>\n",
       "      <td>2.592866</td>\n",
       "      <td>...</td>\n",
       "      <td>446.750</td>\n",
       "      <td>NaN</td>\n",
       "      <td>NaN</td>\n",
       "      <td>NaN</td>\n",
       "      <td>NaN</td>\n",
       "      <td>NaN</td>\n",
       "      <td>NaN</td>\n",
       "      <td>NaN</td>\n",
       "      <td>NaN</td>\n",
       "      <td>NaN</td>\n",
       "    </tr>\n",
       "    <tr>\n",
       "      <th>P1</th>\n",
       "      <td>NaN</td>\n",
       "      <td>NaN</td>\n",
       "      <td>NaN</td>\n",
       "      <td>NaN</td>\n",
       "      <td>NaN</td>\n",
       "      <td>NaN</td>\n",
       "      <td>NaN</td>\n",
       "      <td>0.000</td>\n",
       "      <td>NaN</td>\n",
       "      <td>0.000000</td>\n",
       "      <td>...</td>\n",
       "      <td>0.000</td>\n",
       "      <td>NaN</td>\n",
       "      <td>NaN</td>\n",
       "      <td>NaN</td>\n",
       "      <td>NaN</td>\n",
       "      <td>NaN</td>\n",
       "      <td>NaN</td>\n",
       "      <td>NaN</td>\n",
       "      <td>NaN</td>\n",
       "      <td>NaN</td>\n",
       "    </tr>\n",
       "    <tr>\n",
       "      <th>P2</th>\n",
       "      <td>32.510139</td>\n",
       "      <td>25.000</td>\n",
       "      <td>99.790</td>\n",
       "      <td>77.625</td>\n",
       "      <td>0.985550</td>\n",
       "      <td>NaN</td>\n",
       "      <td>NaN</td>\n",
       "      <td>11147.375</td>\n",
       "      <td>1.267702</td>\n",
       "      <td>7.428272</td>\n",
       "      <td>...</td>\n",
       "      <td>1487.875</td>\n",
       "      <td>688.375</td>\n",
       "      <td>0.88621</td>\n",
       "      <td>643.500</td>\n",
       "      <td>1.122985</td>\n",
       "      <td>7.250</td>\n",
       "      <td>0.858255</td>\n",
       "      <td>0.25</td>\n",
       "      <td>1.187500</td>\n",
       "      <td>11.663580</td>\n",
       "    </tr>\n",
       "    <tr>\n",
       "      <th>P3</th>\n",
       "      <td>NaN</td>\n",
       "      <td>NaN</td>\n",
       "      <td>NaN</td>\n",
       "      <td>NaN</td>\n",
       "      <td>NaN</td>\n",
       "      <td>NaN</td>\n",
       "      <td>NaN</td>\n",
       "      <td>NaN</td>\n",
       "      <td>NaN</td>\n",
       "      <td>NaN</td>\n",
       "      <td>...</td>\n",
       "      <td>NaN</td>\n",
       "      <td>NaN</td>\n",
       "      <td>NaN</td>\n",
       "      <td>NaN</td>\n",
       "      <td>NaN</td>\n",
       "      <td>NaN</td>\n",
       "      <td>NaN</td>\n",
       "      <td>NaN</td>\n",
       "      <td>NaN</td>\n",
       "      <td>NaN</td>\n",
       "    </tr>\n",
       "    <tr>\n",
       "      <th>P4</th>\n",
       "      <td>22.257710</td>\n",
       "      <td>NaN</td>\n",
       "      <td>62.596</td>\n",
       "      <td>NaN</td>\n",
       "      <td>NaN</td>\n",
       "      <td>NaN</td>\n",
       "      <td>NaN</td>\n",
       "      <td>0.000</td>\n",
       "      <td>NaN</td>\n",
       "      <td>0.000000</td>\n",
       "      <td>...</td>\n",
       "      <td>0.000</td>\n",
       "      <td>NaN</td>\n",
       "      <td>NaN</td>\n",
       "      <td>NaN</td>\n",
       "      <td>NaN</td>\n",
       "      <td>NaN</td>\n",
       "      <td>NaN</td>\n",
       "      <td>NaN</td>\n",
       "      <td>NaN</td>\n",
       "      <td>NaN</td>\n",
       "    </tr>\n",
       "    <tr>\n",
       "      <th>...</th>\n",
       "      <td>...</td>\n",
       "      <td>...</td>\n",
       "      <td>...</td>\n",
       "      <td>...</td>\n",
       "      <td>...</td>\n",
       "      <td>...</td>\n",
       "      <td>...</td>\n",
       "      <td>...</td>\n",
       "      <td>...</td>\n",
       "      <td>...</td>\n",
       "      <td>...</td>\n",
       "      <td>...</td>\n",
       "      <td>...</td>\n",
       "      <td>...</td>\n",
       "      <td>...</td>\n",
       "      <td>...</td>\n",
       "      <td>...</td>\n",
       "      <td>...</td>\n",
       "      <td>...</td>\n",
       "      <td>...</td>\n",
       "      <td>...</td>\n",
       "    </tr>\n",
       "    <tr>\n",
       "      <th>P108</th>\n",
       "      <td>29.725172</td>\n",
       "      <td>29.868</td>\n",
       "      <td>86.108</td>\n",
       "      <td>NaN</td>\n",
       "      <td>NaN</td>\n",
       "      <td>NaN</td>\n",
       "      <td>NaN</td>\n",
       "      <td>0.000</td>\n",
       "      <td>0.000000</td>\n",
       "      <td>0.000000</td>\n",
       "      <td>...</td>\n",
       "      <td>0.000</td>\n",
       "      <td>NaN</td>\n",
       "      <td>NaN</td>\n",
       "      <td>NaN</td>\n",
       "      <td>NaN</td>\n",
       "      <td>NaN</td>\n",
       "      <td>NaN</td>\n",
       "      <td>NaN</td>\n",
       "      <td>NaN</td>\n",
       "      <td>NaN</td>\n",
       "    </tr>\n",
       "    <tr>\n",
       "      <th>P109</th>\n",
       "      <td>40.642212</td>\n",
       "      <td>NaN</td>\n",
       "      <td>117.456</td>\n",
       "      <td>55.875</td>\n",
       "      <td>0.990399</td>\n",
       "      <td>NaN</td>\n",
       "      <td>NaN</td>\n",
       "      <td>3571.375</td>\n",
       "      <td>2.819350</td>\n",
       "      <td>2.507102</td>\n",
       "      <td>...</td>\n",
       "      <td>940.000</td>\n",
       "      <td>1246.750</td>\n",
       "      <td>1.07393</td>\n",
       "      <td>66.875</td>\n",
       "      <td>0.869375</td>\n",
       "      <td>2.375</td>\n",
       "      <td>0.428819</td>\n",
       "      <td>0.25</td>\n",
       "      <td>0.180556</td>\n",
       "      <td>16.942527</td>\n",
       "    </tr>\n",
       "    <tr>\n",
       "      <th>P110</th>\n",
       "      <td>NaN</td>\n",
       "      <td>NaN</td>\n",
       "      <td>NaN</td>\n",
       "      <td>NaN</td>\n",
       "      <td>NaN</td>\n",
       "      <td>NaN</td>\n",
       "      <td>NaN</td>\n",
       "      <td>NaN</td>\n",
       "      <td>NaN</td>\n",
       "      <td>NaN</td>\n",
       "      <td>...</td>\n",
       "      <td>NaN</td>\n",
       "      <td>NaN</td>\n",
       "      <td>NaN</td>\n",
       "      <td>NaN</td>\n",
       "      <td>NaN</td>\n",
       "      <td>NaN</td>\n",
       "      <td>NaN</td>\n",
       "      <td>NaN</td>\n",
       "      <td>NaN</td>\n",
       "      <td>NaN</td>\n",
       "    </tr>\n",
       "    <tr>\n",
       "      <th>P111</th>\n",
       "      <td>NaN</td>\n",
       "      <td>NaN</td>\n",
       "      <td>NaN</td>\n",
       "      <td>NaN</td>\n",
       "      <td>NaN</td>\n",
       "      <td>NaN</td>\n",
       "      <td>NaN</td>\n",
       "      <td>NaN</td>\n",
       "      <td>NaN</td>\n",
       "      <td>NaN</td>\n",
       "      <td>...</td>\n",
       "      <td>NaN</td>\n",
       "      <td>NaN</td>\n",
       "      <td>NaN</td>\n",
       "      <td>NaN</td>\n",
       "      <td>NaN</td>\n",
       "      <td>NaN</td>\n",
       "      <td>NaN</td>\n",
       "      <td>NaN</td>\n",
       "      <td>NaN</td>\n",
       "      <td>NaN</td>\n",
       "    </tr>\n",
       "    <tr>\n",
       "      <th>P112</th>\n",
       "      <td>20.052015</td>\n",
       "      <td>NaN</td>\n",
       "      <td>59.875</td>\n",
       "      <td>NaN</td>\n",
       "      <td>NaN</td>\n",
       "      <td>NaN</td>\n",
       "      <td>NaN</td>\n",
       "      <td>0.000</td>\n",
       "      <td>NaN</td>\n",
       "      <td>0.000000</td>\n",
       "      <td>...</td>\n",
       "      <td>0.000</td>\n",
       "      <td>NaN</td>\n",
       "      <td>NaN</td>\n",
       "      <td>NaN</td>\n",
       "      <td>NaN</td>\n",
       "      <td>NaN</td>\n",
       "      <td>NaN</td>\n",
       "      <td>NaN</td>\n",
       "      <td>NaN</td>\n",
       "      <td>NaN</td>\n",
       "    </tr>\n",
       "  </tbody>\n",
       "</table>\n",
       "<p>113 rows × 32 columns</p>\n",
       "</div>"
      ],
      "text/plain": [
       "            BMI  body fat   weight  resting heart rate: recent  \\\n",
       "P0    27.770063    30.000   89.975                         NaN   \n",
       "P1          NaN       NaN      NaN                         NaN   \n",
       "P2    32.510139    25.000   99.790                      77.625   \n",
       "P3          NaN       NaN      NaN                         NaN   \n",
       "P4    22.257710       NaN   62.596                         NaN   \n",
       "...         ...       ...      ...                         ...   \n",
       "P108  29.725172    29.868   86.108                         NaN   \n",
       "P109  40.642212       NaN  117.456                      55.875   \n",
       "P110        NaN       NaN      NaN                         NaN   \n",
       "P111        NaN       NaN      NaN                         NaN   \n",
       "P112  20.052015       NaN   59.875                         NaN   \n",
       "\n",
       "      resting heart rate: recent/baseline  sleep duration: recent  \\\n",
       "P0                                    NaN                     NaN   \n",
       "P1                                    NaN                     NaN   \n",
       "P2                               0.985550                     NaN   \n",
       "P3                                    NaN                     NaN   \n",
       "P4                                    NaN                     NaN   \n",
       "...                                   ...                     ...   \n",
       "P108                                  NaN                     NaN   \n",
       "P109                             0.990399                     NaN   \n",
       "P110                                  NaN                     NaN   \n",
       "P111                                  NaN                     NaN   \n",
       "P112                                  NaN                     NaN   \n",
       "\n",
       "      sleep duration: recent/baseline  steps: recent  steps: recent/baseline  \\\n",
       "P0                                NaN       3470.875                0.915239   \n",
       "P1                                NaN          0.000                     NaN   \n",
       "P2                                NaN      11147.375                1.267702   \n",
       "P3                                NaN            NaN                     NaN   \n",
       "P4                                NaN          0.000                     NaN   \n",
       "...                               ...            ...                     ...   \n",
       "P108                              NaN          0.000                0.000000   \n",
       "P109                              NaN       3571.375                2.819350   \n",
       "P110                              NaN            NaN                     NaN   \n",
       "P111                              NaN            NaN                     NaN   \n",
       "P112                              NaN          0.000                     NaN   \n",
       "\n",
       "      distance: recent  ...  excess calories: recent  out-of-range HR: recent  \\\n",
       "P0            2.592866  ...                  446.750                      NaN   \n",
       "P1            0.000000  ...                    0.000                      NaN   \n",
       "P2            7.428272  ...                 1487.875                  688.375   \n",
       "P3                 NaN  ...                      NaN                      NaN   \n",
       "P4            0.000000  ...                    0.000                      NaN   \n",
       "...                ...  ...                      ...                      ...   \n",
       "P108          0.000000  ...                    0.000                      NaN   \n",
       "P109          2.507102  ...                  940.000                 1246.750   \n",
       "P110               NaN  ...                      NaN                      NaN   \n",
       "P111               NaN  ...                      NaN                      NaN   \n",
       "P112          0.000000  ...                    0.000                      NaN   \n",
       "\n",
       "      out-of-range HR: recent/baseline  fat burn HR: recent  \\\n",
       "P0                                 NaN                  NaN   \n",
       "P1                                 NaN                  NaN   \n",
       "P2                             0.88621              643.500   \n",
       "P3                                 NaN                  NaN   \n",
       "P4                                 NaN                  NaN   \n",
       "...                                ...                  ...   \n",
       "P108                               NaN                  NaN   \n",
       "P109                           1.07393               66.875   \n",
       "P110                               NaN                  NaN   \n",
       "P111                               NaN                  NaN   \n",
       "P112                               NaN                  NaN   \n",
       "\n",
       "      fat burn HR: recent/baseline  cardio HR: recent  \\\n",
       "P0                             NaN                NaN   \n",
       "P1                             NaN                NaN   \n",
       "P2                        1.122985              7.250   \n",
       "P3                             NaN                NaN   \n",
       "P4                             NaN                NaN   \n",
       "...                            ...                ...   \n",
       "P108                           NaN                NaN   \n",
       "P109                      0.869375              2.375   \n",
       "P110                           NaN                NaN   \n",
       "P111                           NaN                NaN   \n",
       "P112                           NaN                NaN   \n",
       "\n",
       "      cardio HR: recent/baseline  peak HR: recent  peak HR: recent/baseline  \\\n",
       "P0                           NaN              NaN                       NaN   \n",
       "P1                           NaN              NaN                       NaN   \n",
       "P2                      0.858255             0.25                  1.187500   \n",
       "P3                           NaN              NaN                       NaN   \n",
       "P4                           NaN              NaN                       NaN   \n",
       "...                          ...              ...                       ...   \n",
       "P108                         NaN              NaN                       NaN   \n",
       "P109                    0.428819             0.25                  0.180556   \n",
       "P110                         NaN              NaN                       NaN   \n",
       "P111                         NaN              NaN                       NaN   \n",
       "P112                         NaN              NaN                       NaN   \n",
       "\n",
       "      HR variability  \n",
       "P0               NaN  \n",
       "P1               NaN  \n",
       "P2         11.663580  \n",
       "P3               NaN  \n",
       "P4               NaN  \n",
       "...              ...  \n",
       "P108             NaN  \n",
       "P109       16.942527  \n",
       "P110             NaN  \n",
       "P111             NaN  \n",
       "P112             NaN  \n",
       "\n",
       "[113 rows x 32 columns]"
      ]
     },
     "execution_count": 18,
     "metadata": {},
     "output_type": "execute_result"
    }
   ],
   "source": [
    "fitbit"
   ]
  },
  {
   "cell_type": "code",
   "execution_count": 17,
   "id": "2f5c2309",
   "metadata": {},
   "outputs": [],
   "source": [
    "with open(os.path.join(DATA_DIR, 'fitness_summary.pkl'), 'wb') as f:\n",
    "    pickle.dump(fitbit, f)"
   ]
  }
 ],
 "metadata": {
  "kernelspec": {
   "display_name": "Python 3 (ipykernel)",
   "language": "python",
   "name": "python3"
  },
  "language_info": {
   "codemirror_mode": {
    "name": "ipython",
    "version": 3
   },
   "file_extension": ".py",
   "mimetype": "text/x-python",
   "name": "python",
   "nbconvert_exporter": "python",
   "pygments_lexer": "ipython3",
   "version": "3.8.12"
  }
 },
 "nbformat": 4,
 "nbformat_minor": 5
}
